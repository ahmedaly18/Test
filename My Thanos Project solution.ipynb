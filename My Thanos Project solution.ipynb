{
 "cells": [
  {
   "cell_type": "code",
   "execution_count": 24,
   "id": "cdbe8c46",
   "metadata": {},
   "outputs": [],
   "source": [
    "import os\n",
    "import random\n",
    "import time"
   ]
  },
  {
   "cell_type": "code",
   "execution_count": 25,
   "id": "a863e365",
   "metadata": {},
   "outputs": [],
   "source": [
    "def loading_universe(path):\n",
    "    return os.listdir(path)"
   ]
  },
  {
   "cell_type": "markdown",
   "id": "a5ff2aea",
   "metadata": {},
   "source": [
    "Start destroying !"
   ]
  },
  {
   "cell_type": "code",
   "execution_count": 38,
   "id": "e2c8a18b",
   "metadata": {},
   "outputs": [],
   "source": [
    "def destroy_half():\n",
    "    universe=loading_universe('universe')\n",
    "    universe\n",
    "    pass\n",
    "    for i in range(len(universe)//2):\n",
    "        universe=loading_universe('universe')\n",
    "        random_choice=random.choice(universe)\n",
    "        print('detroying: '+random_choice)\n",
    "        time.sleep(1)\n",
    "        os.remove('universe/'+random_choice)\n",
    "    print('Now, every thing is ok')\n",
    "    print('no. of new universe= ' + str(len(loading_universe('universe'))) )\n",
    "    print(loading_universe('universe'))"
   ]
  },
  {
   "cell_type": "code",
   "execution_count": 39,
   "id": "cb8765bd",
   "metadata": {},
   "outputs": [
    {
     "name": "stdout",
     "output_type": "stream",
     "text": [
      "detroying: cover027.png\n",
      "detroying: cover043.png\n",
      "detroying: cover041.png\n",
      "detroying: cover008.png\n",
      "detroying: cover045.png\n",
      "detroying: cover029.png\n",
      "detroying: cover001.png\n",
      "detroying: cover037.png\n",
      "detroying: cover036.png\n",
      "detroying: cover031.png\n",
      "detroying: cover038.png\n",
      "detroying: cover042.png\n",
      "Now, every thing is ok\n",
      "no. of new universe= 13\n",
      "['cover003.png', 'cover009.png', 'cover011.png', 'cover015.png', 'cover016.png', 'cover017.png', 'cover021.png', 'cover025.png', 'cover033.png', 'cover034.png', 'cover035.png', 'cover039.png', 'cover048.png']\n"
     ]
    }
   ],
   "source": [
    "destroy_half()"
   ]
  },
  {
   "cell_type": "code",
   "execution_count": null,
   "id": "af43209c",
   "metadata": {},
   "outputs": [],
   "source": []
  }
 ],
 "metadata": {
  "kernelspec": {
   "display_name": "Python 3",
   "language": "python",
   "name": "python3"
  },
  "language_info": {
   "codemirror_mode": {
    "name": "ipython",
    "version": 3
   },
   "file_extension": ".py",
   "mimetype": "text/x-python",
   "name": "python",
   "nbconvert_exporter": "python",
   "pygments_lexer": "ipython3",
   "version": "3.8.8"
  }
 },
 "nbformat": 4,
 "nbformat_minor": 5
}
